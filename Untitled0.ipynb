{
  "nbformat": 4,
  "nbformat_minor": 0,
  "metadata": {
    "colab": {
      "provenance": [],
      "authorship_tag": "ABX9TyP4RR/cETqM3dRwfm36cXVY",
      "include_colab_link": true
    },
    "kernelspec": {
      "name": "python3",
      "display_name": "Python 3"
    },
    "language_info": {
      "name": "python"
    }
  },
  "cells": [
    {
      "cell_type": "markdown",
      "metadata": {
        "id": "view-in-github",
        "colab_type": "text"
      },
      "source": [
        "<a href=\"https://colab.research.google.com/github/ONEK1N6/Examen/blob/master/Untitled0.ipynb\" target=\"_parent\"><img src=\"https://colab.research.google.com/assets/colab-badge.svg\" alt=\"Open In Colab\"/></a>"
      ]
    },
    {
      "cell_type": "code",
      "execution_count": 3,
      "metadata": {
        "colab": {
          "base_uri": "https://localhost:8080/"
        },
        "id": "2b6JCDymuwRl",
        "outputId": "36d02e02-5f94-48de-84b0-f6d75a7aff97"
      },
      "outputs": [
        {
          "output_type": "stream",
          "name": "stdout",
          "text": [
            "Collecting pycryptodome\n",
            "  Downloading pycryptodome-3.22.0-cp37-abi3-manylinux_2_17_x86_64.manylinux2014_x86_64.whl.metadata (3.4 kB)\n",
            "Downloading pycryptodome-3.22.0-cp37-abi3-manylinux_2_17_x86_64.manylinux2014_x86_64.whl (2.3 MB)\n",
            "\u001b[?25l   \u001b[90m━━━━━━━━━━━━━━━━━━━━━━━━━━━━━━━━━━━━━━━━\u001b[0m \u001b[32m0.0/2.3 MB\u001b[0m \u001b[31m?\u001b[0m eta \u001b[36m-:--:--\u001b[0m\r\u001b[2K   \u001b[91m━━━\u001b[0m\u001b[91m╸\u001b[0m\u001b[90m━━━━━━━━━━━━━━━━━━━━━━━━━━━━━━━━━━━━\u001b[0m \u001b[32m0.2/2.3 MB\u001b[0m \u001b[31m6.7 MB/s\u001b[0m eta \u001b[36m0:00:01\u001b[0m\r\u001b[2K   \u001b[91m━━━━━━━━━━━━━━━━━━━━━━━━━━━━━━━\u001b[0m\u001b[91m╸\u001b[0m\u001b[90m━━━━━━━━\u001b[0m \u001b[32m1.8/2.3 MB\u001b[0m \u001b[31m26.4 MB/s\u001b[0m eta \u001b[36m0:00:01\u001b[0m\r\u001b[2K   \u001b[90m━━━━━━━━━━━━━━━━━━━━━━━━━━━━━━━━━━━━━━━━\u001b[0m \u001b[32m2.3/2.3 MB\u001b[0m \u001b[31m23.8 MB/s\u001b[0m eta \u001b[36m0:00:00\u001b[0m\n",
            "\u001b[?25hInstalling collected packages: pycryptodome\n",
            "Successfully installed pycryptodome-3.22.0\n",
            "🔐 Tarjeta cifrada (Base64): rLXgX8G0q5j4cCUhk03UEr5CJ7d5wnVMZhXj1ZkxLtI=\n",
            "🔒 Clave AES cifrada con RSA (Base64): aBpwS079B+ugqEq41+ajj0UROw0zvpd/Dqs2vQaRDfbi4c/Byzz0HIbu0qsK7ij6aTHvcrU0CZpQsCEQq0JjkkFEE0Evs49xapzwc8GpXwlYrx+1/teUzLOEUsbIEX8jwwKUKdEJw52QMoEXyYQJYWq9xP49Xf5x/TfQjaXv8rbJxqI0DA13dLpX7jRv1c7GqFQ/G+F8JeuS8JSydpRBMzRtoKY2apGGss1P8kOkI36DmEDKirobIL2v63q1XR6GXLWLbnXJEGP/WUOTQHPDdteirZ9xyRPS4D89vHcI7EfR4sqbUsdhdkx0tmcO6bQFCATMXZwKk2Rin90Tsoi7Iw==\n",
            "🔓 Clave AES descifrada: 6b862564cf355ecd280794ec8c241045840afeee43fc9e2f5e1965bd8024caf3\n",
            "💳 Tarjeta de crédito descifrada: 123345567\n"
          ]
        }
      ],
      "source": [
        "# 🚀 INSTALAR DEPENDENCIAS\n",
        "!pip install pycryptodome\n",
        "\n",
        "# 📌 IMPORTAR LIBRERÍAS\n",
        "from Crypto.Cipher import AES, PKCS1_OAEP\n",
        "from Crypto.Util.Padding import pad, unpad\n",
        "from Crypto.Random import get_random_bytes\n",
        "from Crypto.PublicKey import RSA\n",
        "import base64\n",
        "\n",
        "# 🔹 1️⃣ GENERAR CLAVE AES Y CIFRAR TARJETA\n",
        "tarjeta_credito = \"123345567\"  # Ejemplo de número de tarjeta\n",
        "\n",
        "# Generar clave AES de 256 bits (32 bytes)\n",
        "clave_aes = get_random_bytes(32)\n",
        "\n",
        "# Crear cifrador AES en modo CBC\n",
        "iv = get_random_bytes(16)  # Vector de inicialización\n",
        "cipher = AES.new(clave_aes, AES.MODE_CBC, iv)\n",
        "\n",
        "# Cifrar los datos con padding\n",
        "datos_cifrados = cipher.encrypt(pad(tarjeta_credito.encode(), AES.block_size))\n",
        "\n",
        "# Convertir a Base64 para almacenar seguro\n",
        "datos_cifrados_b64 = base64.b64encode(iv + datos_cifrados).decode()\n",
        "print(\"🔐 Tarjeta cifrada (Base64):\", datos_cifrados_b64)\n",
        "\n",
        "# 🔹 2️⃣ GENERAR CLAVES RSA Y CIFRAR LA CLAVE AES\n",
        "# Generar clave RSA de 2048 bits\n",
        "clave_rsa = RSA.generate(2048)\n",
        "clave_publica = clave_rsa.publickey()\n",
        "\n",
        "# Cifrar la clave AES con RSA\n",
        "cipher_rsa = PKCS1_OAEP.new(clave_publica)\n",
        "clave_aes_cifrada = cipher_rsa.encrypt(clave_aes)\n",
        "\n",
        "# Convertir la clave AES cifrada a Base64\n",
        "clave_aes_cifrada_b64 = base64.b64encode(clave_aes_cifrada).decode()\n",
        "print(\"🔒 Clave AES cifrada con RSA (Base64):\", clave_aes_cifrada_b64)\n",
        "\n",
        "# 🔹 3️⃣ DESCIFRAR LA CLAVE AES CON RSA\n",
        "cipher_rsa_descifrado = PKCS1_OAEP.new(clave_rsa)\n",
        "clave_aes_descifrada = cipher_rsa_descifrado.decrypt(base64.b64decode(clave_aes_cifrada_b64))\n",
        "\n",
        "print(\"🔓 Clave AES descifrada:\", clave_aes_descifrada.hex())\n",
        "\n",
        "# 🔹 4️⃣ DESCIFRAR LA TARJETA DE CRÉDITO CON AES\n",
        "# Extraer IV y datos cifrados\n",
        "datos_cifrados_decoded = base64.b64decode(datos_cifrados_b64)\n",
        "iv_recuperado = datos_cifrados_decoded[:16]\n",
        "datos_cifrados_real = datos_cifrados_decoded[16:]\n",
        "\n",
        "# Crear descifrador AES con la clave recuperada\n",
        "cipher_dec = AES.new(clave_aes_descifrada, AES.MODE_CBC, iv_recuperado)\n",
        "\n",
        "# Descifrar y quitar padding\n",
        "tarjeta_descifrada = unpad(cipher_dec.decrypt(datos_cifrados_real), AES.block_size).decode()\n",
        "\n",
        "print(\"💳 Tarjeta de crédito descifrada:\", tarjeta_descifrada)"
      ]
    }
  ]
}